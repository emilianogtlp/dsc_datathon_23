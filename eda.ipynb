{
 "cells": [
  {
   "attachments": {},
   "cell_type": "markdown",
   "metadata": {},
   "source": [
    "# Exploración Inicial"
   ]
  },
  {
   "attachments": {},
   "cell_type": "markdown",
   "metadata": {},
   "source": [
    "## Información general"
   ]
  },
  {
   "cell_type": "code",
   "execution_count": 91,
   "metadata": {},
   "outputs": [],
   "source": [
    "#Importamos las librerias necesarias para el análisis\n",
    "\n",
    "import pandas as pd\n",
    "import numpy as np\n",
    "import plotly_express as px"
   ]
  },
  {
   "cell_type": "code",
   "execution_count": 92,
   "metadata": {},
   "outputs": [],
   "source": [
    "# lectura de los datos\n",
    "df = pd.read_csv(\"/Users/emilianogtlp/Documents/proyectos/dsc_datathon_23/dataset_transacc_tdc_tdd_20230309.csv\", parse_dates=['fecha_transaccion'])"
   ]
  },
  {
   "cell_type": "code",
   "execution_count": 93,
   "metadata": {},
   "outputs": [
    {
     "data": {
      "text/html": [
       "<div>\n",
       "<style scoped>\n",
       "    .dataframe tbody tr th:only-of-type {\n",
       "        vertical-align: middle;\n",
       "    }\n",
       "\n",
       "    .dataframe tbody tr th {\n",
       "        vertical-align: top;\n",
       "    }\n",
       "\n",
       "    .dataframe thead th {\n",
       "        text-align: right;\n",
       "    }\n",
       "</style>\n",
       "<table border=\"1\" class=\"dataframe\">\n",
       "  <thead>\n",
       "    <tr style=\"text-align: right;\">\n",
       "      <th></th>\n",
       "      <th>tipo_transaccion</th>\n",
       "      <th>nombre_comercio</th>\n",
       "      <th>giro_nombre</th>\n",
       "      <th>mcc_nombre</th>\n",
       "      <th>fecha_transaccion</th>\n",
       "      <th>ope_pais</th>\n",
       "      <th>entry_mode</th>\n",
       "      <th>sexo_cliente</th>\n",
       "      <th>estado_cliente</th>\n",
       "      <th>edad_cliente</th>\n",
       "      <th>monto_transaccion</th>\n",
       "      <th>id_cliente</th>\n",
       "    </tr>\n",
       "  </thead>\n",
       "  <tbody>\n",
       "    <tr>\n",
       "      <th>0</th>\n",
       "      <td>TDC</td>\n",
       "      <td>FARM GUADALAJARA 341  TORREON COAH CO</td>\n",
       "      <td>FARMACIAS</td>\n",
       "      <td>DROGUERIAS, (FARMACIAS)</td>\n",
       "      <td>2023-01-20 13:48:00</td>\n",
       "      <td>MX</td>\n",
       "      <td>CARD PRESENT</td>\n",
       "      <td>F</td>\n",
       "      <td>COAHUILA DE ZARAGOZA</td>\n",
       "      <td>61.0</td>\n",
       "      <td>65.04</td>\n",
       "      <td>933</td>\n",
       "    </tr>\n",
       "    <tr>\n",
       "      <th>1</th>\n",
       "      <td>TDC</td>\n",
       "      <td>OXXO BABY O           ACAPULCO GRO GE</td>\n",
       "      <td>RETAIL</td>\n",
       "      <td>TIENDAS DE CONVENIENCIA, MINISUPER</td>\n",
       "      <td>2023-01-28 13:58:00</td>\n",
       "      <td>MX</td>\n",
       "      <td>CARD PRESENT</td>\n",
       "      <td>M</td>\n",
       "      <td>MEXICO</td>\n",
       "      <td>27.0</td>\n",
       "      <td>143.18</td>\n",
       "      <td>8562</td>\n",
       "    </tr>\n",
       "    <tr>\n",
       "      <th>2</th>\n",
       "      <td>TDD</td>\n",
       "      <td>VS TELCEL 018001200006CIUDAD DE MEX001</td>\n",
       "      <td>TELECOMUNICACIONES</td>\n",
       "      <td>SERVICIOS DE TELECOMUNICACION, LLAMADAS LOC Y ...</td>\n",
       "      <td>2023-01-29 13:37:00</td>\n",
       "      <td>MX</td>\n",
       "      <td>CARD NOT PRESENT</td>\n",
       "      <td>M</td>\n",
       "      <td>QUINTANA ROO</td>\n",
       "      <td>29.0</td>\n",
       "      <td>84.80</td>\n",
       "      <td>3980</td>\n",
       "    </tr>\n",
       "    <tr>\n",
       "      <th>3</th>\n",
       "      <td>TDD</td>\n",
       "      <td>KFC ECOMMERCE         CIUDAD DE MEX001</td>\n",
       "      <td>COMIDA RAPIDA</td>\n",
       "      <td>COMIDA RAPIDA</td>\n",
       "      <td>2023-02-11 15:06:00</td>\n",
       "      <td>MX</td>\n",
       "      <td>CARD NOT PRESENT</td>\n",
       "      <td>M</td>\n",
       "      <td>COAHUILA DE ZARAGOZA</td>\n",
       "      <td>45.0</td>\n",
       "      <td>124.22</td>\n",
       "      <td>9389</td>\n",
       "    </tr>\n",
       "    <tr>\n",
       "      <th>4</th>\n",
       "      <td>TDD</td>\n",
       "      <td>MERCADO PAGO          CIUDAD DE MEXDF</td>\n",
       "      <td>OTROS</td>\n",
       "      <td>MERCADEO DIRECTO - NO CLASIFICADO</td>\n",
       "      <td>2023-01-24 12:50:00</td>\n",
       "      <td>MX</td>\n",
       "      <td>CARD NOT PRESENT</td>\n",
       "      <td>M</td>\n",
       "      <td>TABASCO</td>\n",
       "      <td>22.0</td>\n",
       "      <td>17.44</td>\n",
       "      <td>1845</td>\n",
       "    </tr>\n",
       "  </tbody>\n",
       "</table>\n",
       "</div>"
      ],
      "text/plain": [
       "  tipo_transaccion                         nombre_comercio  \\\n",
       "0              TDC   FARM GUADALAJARA 341  TORREON COAH CO   \n",
       "1              TDC   OXXO BABY O           ACAPULCO GRO GE   \n",
       "2              TDD  VS TELCEL 018001200006CIUDAD DE MEX001   \n",
       "3              TDD  KFC ECOMMERCE         CIUDAD DE MEX001   \n",
       "4              TDD   MERCADO PAGO          CIUDAD DE MEXDF   \n",
       "\n",
       "          giro_nombre                                         mcc_nombre  \\\n",
       "0           FARMACIAS                            DROGUERIAS, (FARMACIAS)   \n",
       "1              RETAIL                 TIENDAS DE CONVENIENCIA, MINISUPER   \n",
       "2  TELECOMUNICACIONES  SERVICIOS DE TELECOMUNICACION, LLAMADAS LOC Y ...   \n",
       "3       COMIDA RAPIDA                                      COMIDA RAPIDA   \n",
       "4               OTROS                  MERCADEO DIRECTO - NO CLASIFICADO   \n",
       "\n",
       "    fecha_transaccion ope_pais        entry_mode sexo_cliente  \\\n",
       "0 2023-01-20 13:48:00       MX      CARD PRESENT            F   \n",
       "1 2023-01-28 13:58:00       MX      CARD PRESENT            M   \n",
       "2 2023-01-29 13:37:00       MX  CARD NOT PRESENT            M   \n",
       "3 2023-02-11 15:06:00       MX  CARD NOT PRESENT            M   \n",
       "4 2023-01-24 12:50:00       MX  CARD NOT PRESENT            M   \n",
       "\n",
       "         estado_cliente  edad_cliente  monto_transaccion  id_cliente  \n",
       "0  COAHUILA DE ZARAGOZA          61.0              65.04         933  \n",
       "1                MEXICO          27.0             143.18        8562  \n",
       "2          QUINTANA ROO          29.0              84.80        3980  \n",
       "3  COAHUILA DE ZARAGOZA          45.0             124.22        9389  \n",
       "4               TABASCO          22.0              17.44        1845  "
      ]
     },
     "execution_count": 93,
     "metadata": {},
     "output_type": "execute_result"
    }
   ],
   "source": [
    "df.head(5)"
   ]
  },
  {
   "cell_type": "code",
   "execution_count": 94,
   "metadata": {},
   "outputs": [
    {
     "data": {
      "text/plain": [
       "(358360, 12)"
      ]
     },
     "execution_count": 94,
     "metadata": {},
     "output_type": "execute_result"
    }
   ],
   "source": [
    "df.shape"
   ]
  },
  {
   "cell_type": "code",
   "execution_count": 95,
   "metadata": {},
   "outputs": [
    {
     "data": {
      "text/plain": [
       "Index(['tipo_transaccion', 'nombre_comercio', 'giro_nombre', 'mcc_nombre',\n",
       "       'fecha_transaccion', 'ope_pais', 'entry_mode', 'sexo_cliente',\n",
       "       'estado_cliente', 'edad_cliente', 'monto_transaccion', 'id_cliente'],\n",
       "      dtype='object')"
      ]
     },
     "execution_count": 95,
     "metadata": {},
     "output_type": "execute_result"
    }
   ],
   "source": [
    "df.columns"
   ]
  },
  {
   "cell_type": "code",
   "execution_count": 96,
   "metadata": {},
   "outputs": [
    {
     "name": "stdout",
     "output_type": "stream",
     "text": [
      "<class 'pandas.core.frame.DataFrame'>\n",
      "RangeIndex: 358360 entries, 0 to 358359\n",
      "Data columns (total 12 columns):\n",
      " #   Column             Non-Null Count   Dtype         \n",
      "---  ------             --------------   -----         \n",
      " 0   tipo_transaccion   358360 non-null  object        \n",
      " 1   nombre_comercio    358360 non-null  object        \n",
      " 2   giro_nombre        358360 non-null  object        \n",
      " 3   mcc_nombre         358360 non-null  object        \n",
      " 4   fecha_transaccion  358360 non-null  datetime64[ns]\n",
      " 5   ope_pais           358360 non-null  object        \n",
      " 6   entry_mode         358360 non-null  object        \n",
      " 7   sexo_cliente       358360 non-null  object        \n",
      " 8   estado_cliente     358360 non-null  object        \n",
      " 9   edad_cliente       358360 non-null  float64       \n",
      " 10  monto_transaccion  358360 non-null  float64       \n",
      " 11  id_cliente         358360 non-null  int64         \n",
      "dtypes: datetime64[ns](1), float64(2), int64(1), object(8)\n",
      "memory usage: 32.8+ MB\n"
     ]
    }
   ],
   "source": [
    "df.info()"
   ]
  },
  {
   "cell_type": "code",
   "execution_count": 97,
   "metadata": {},
   "outputs": [
    {
     "data": {
      "text/plain": [
       "count                           358360\n",
       "mean     2023-01-09 18:43:32.353554432\n",
       "min                2022-11-08 00:01:00\n",
       "25%                2022-12-10 18:25:45\n",
       "50%                2023-01-10 20:48:00\n",
       "75%                2023-02-09 15:20:00\n",
       "max                2023-03-07 23:57:00\n",
       "Name: fecha_transaccion, dtype: object"
      ]
     },
     "execution_count": 97,
     "metadata": {},
     "output_type": "execute_result"
    }
   ],
   "source": [
    "df['fecha_transaccion'].describe(datetime_is_numeric=True)"
   ]
  },
  {
   "attachments": {},
   "cell_type": "markdown",
   "metadata": {},
   "source": [
    "## Obtener información sobre cada columna"
   ]
  },
  {
   "cell_type": "code",
   "execution_count": 98,
   "metadata": {},
   "outputs": [
    {
     "data": {
      "text/plain": [
       "TDD    209698\n",
       "TDC    148662\n",
       "Name: tipo_transaccion, dtype: int64"
      ]
     },
     "execution_count": 98,
     "metadata": {},
     "output_type": "execute_result"
    }
   ],
   "source": [
    "# Analizar el tipo de transacción más común\n",
    "df.tipo_transaccion.value_counts()"
   ]
  },
  {
   "attachments": {},
   "cell_type": "markdown",
   "metadata": {},
   "source": [
    "No existen errores a corregir en el método de pago"
   ]
  },
  {
   "cell_type": "code",
   "execution_count": 99,
   "metadata": {},
   "outputs": [
    {
     "data": {
      "text/plain": [
       "84774"
      ]
     },
     "execution_count": 99,
     "metadata": {},
     "output_type": "execute_result"
    }
   ],
   "source": [
    "len(df.nombre_comercio.unique())"
   ]
  },
  {
   "cell_type": "code",
   "execution_count": 100,
   "metadata": {},
   "outputs": [
    {
     "data": {
      "text/plain": [
       "MERCADO PAGO          CIUDAD DE MEXDF     8816\n",
       "STP*UBER PENDING      CIUDAD DE MEX001    6402\n",
       "SNP*MERCADOPAGO       CIUDAD DE MEX001    6369\n",
       "DLOCAL*DIDI RIDES     CIUDAD DE MEX001    4757\n",
       "PAYPAL3               MEXICO DF    DF     2932\n",
       "                                          ... \n",
       "SANBORNS SLP PZA CARSOSN LUIS POTOSSL        1\n",
       "GALLARDO ORTODONCIA   MEXICALI     BC        1\n",
       "GASOL TLACOTEPEC      TOLUCA EM    000       1\n",
       "CHARLEYS PHILLY STEAKS 51SAN ANTONIO         1\n",
       "FIRST CASH            SOLEDAD DE GR000       1\n",
       "Name: nombre_comercio, Length: 84774, dtype: int64"
      ]
     },
     "execution_count": 100,
     "metadata": {},
     "output_type": "execute_result"
    }
   ],
   "source": [
    "# Analizar la concurrencia de los comercios\n",
    "df.nombre_comercio.value_counts()"
   ]
  },
  {
   "attachments": {},
   "cell_type": "markdown",
   "metadata": {},
   "source": [
    "Existen comercios con múltiples compras así como outliers, no se despreciaran ya que no se consideran una variable significante para el modelo"
   ]
  },
  {
   "cell_type": "code",
   "execution_count": 101,
   "metadata": {},
   "outputs": [
    {
     "name": "stdout",
     "output_type": "stream",
     "text": [
      "                                  monto_transaccion                         \n",
      "                                              count          sum        mean\n",
      "giro_nombre                                                                 \n",
      "RETAIL                                        69381   9898749.07  142.672332\n",
      "SUPERMERCADOS                                 52479  11376961.52  216.790745\n",
      "AGREGADOR                                     38739   6577058.73  169.778743\n",
      "OTROS                                         36185   6673742.68  184.433956\n",
      "TRANSPORTE TERRESTRE DE PASAJEROS             32118   2385990.48   74.288265\n",
      "GASOLINERAS                                   20836   4764391.84  228.661540\n",
      "RESTAURANTE                                   19632   4124162.52  210.073478\n",
      "COMIDA RAPIDA                                 18314   2142755.16  117.000937\n",
      "MISCELANEAS                                   15140   1720584.42  113.644942\n",
      "ENTRETENIMIENTO                               14295   2738398.16  191.563355\n",
      "FARMACIAS                                     12483   1510086.96  120.971478\n",
      "TELECOMUNICACIONES                            10836   1906893.74  175.977643\n",
      "GOBIERNO                                       5309   1338195.11  252.061614\n",
      "REFACCIONES Y FERRETERIA                       3594    885090.03  246.268790\n",
      "MEDICOS Y DENTISTAS                            1402    516241.54  368.217932\n",
      "HOTELES                                        1225    443375.34  361.939053\n",
      "COLEGIOS Y UNIVERSIDADES                       1210    553574.25  457.499380\n",
      "TRANSPORTE AEREO                               1060    546170.86  515.255528\n",
      "ASEGURADORAS                                    755    347722.52  460.559629\n",
      "SALONES DE BELLEZA                              696    164640.27  236.552112\n",
      "BENEFICENCIA                                    520    170062.54  327.043346\n",
      "ESTACIONAMIENTOS                                510     28666.71   56.209235\n",
      "PEAJE                                           432     65352.36  151.278611\n",
      "EDUCACIN BASICA                                 426    214783.70  504.187089\n",
      "AGENCIAS DE VIAJES                              404    219814.89  544.096262\n",
      "HOSPITALES                                      283    102295.17  361.467032\n",
      "RENTA DE AUTOS                                   93     81879.00  880.419355\n",
      "GUARDERIAS                                        3      1621.26  540.420000\n"
     ]
    }
   ],
   "source": [
    "# Describir generalmente el compartamiento en cuanto a transacciones por giro\n",
    "giros = df.groupby(\"giro_nombre\").agg({'monto_transaccion':['count','sum','mean']})\n",
    "giros_count = giros.sort_values(('monto_transaccion','count'),ascending=False)\n",
    "print(giros_count)"
   ]
  },
  {
   "cell_type": "code",
   "execution_count": 102,
   "metadata": {},
   "outputs": [
    {
     "data": {
      "text/plain": [
       "RETAIL                               19.36%\n",
       "SUPERMERCADOS                        14.64%\n",
       "AGREGADOR                            10.81%\n",
       "OTROS                                10.10%\n",
       "TRANSPORTE TERRESTRE DE PASAJEROS     8.96%\n",
       "GASOLINERAS                           5.81%\n",
       "RESTAURANTE                           5.48%\n",
       "COMIDA RAPIDA                         5.11%\n",
       "MISCELANEAS                           4.22%\n",
       "ENTRETENIMIENTO                       3.99%\n",
       "FARMACIAS                             3.48%\n",
       "TELECOMUNICACIONES                    3.02%\n",
       "GOBIERNO                              1.48%\n",
       "REFACCIONES Y FERRETERIA              1.00%\n",
       "MEDICOS Y DENTISTAS                   0.39%\n",
       "HOTELES                               0.34%\n",
       "COLEGIOS Y UNIVERSIDADES              0.34%\n",
       "TRANSPORTE AEREO                      0.30%\n",
       "ASEGURADORAS                          0.21%\n",
       "SALONES DE BELLEZA                    0.19%\n",
       "BENEFICENCIA                          0.15%\n",
       "ESTACIONAMIENTOS                      0.14%\n",
       "PEAJE                                 0.12%\n",
       "EDUCACIN BASICA                       0.12%\n",
       "AGENCIAS DE VIAJES                    0.11%\n",
       "HOSPITALES                            0.08%\n",
       "RENTA DE AUTOS                        0.03%\n",
       "GUARDERIAS                            0.00%\n",
       "Name: giro_nombre, dtype: object"
      ]
     },
     "execution_count": 102,
     "metadata": {},
     "output_type": "execute_result"
    }
   ],
   "source": [
    "# Lista de las categorías con mayor concurrencia\n",
    "category_counts = df['giro_nombre'].value_counts(normalize=True).apply(lambda x: '{:.2f}%'.format(x*100))\n",
    "category_counts\n"
   ]
  },
  {
   "cell_type": "code",
   "execution_count": 103,
   "metadata": {},
   "outputs": [
    {
     "name": "stdout",
     "output_type": "stream",
     "text": [
      "giro_nombre\n",
      "SUPERMERCADOS                        18.50%\n",
      "RETAIL                               16.10%\n",
      "OTROS                                10.85%\n",
      "AGREGADOR                            10.69%\n",
      "GASOLINERAS                           7.75%\n",
      "RESTAURANTE                           6.71%\n",
      "ENTRETENIMIENTO                       4.45%\n",
      "TRANSPORTE TERRESTRE DE PASAJEROS     3.88%\n",
      "COMIDA RAPIDA                         3.48%\n",
      "TELECOMUNICACIONES                    3.10%\n",
      "MISCELANEAS                           2.80%\n",
      "FARMACIAS                             2.46%\n",
      "GOBIERNO                              2.18%\n",
      "REFACCIONES Y FERRETERIA              1.44%\n",
      "COLEGIOS Y UNIVERSIDADES              0.90%\n",
      "TRANSPORTE AEREO                      0.89%\n",
      "MEDICOS Y DENTISTAS                   0.84%\n",
      "HOTELES                               0.72%\n",
      "ASEGURADORAS                          0.57%\n",
      "AGENCIAS DE VIAJES                    0.36%\n",
      "EDUCACIN BASICA                       0.35%\n",
      "BENEFICENCIA                          0.28%\n",
      "SALONES DE BELLEZA                    0.27%\n",
      "HOSPITALES                            0.17%\n",
      "RENTA DE AUTOS                        0.13%\n",
      "PEAJE                                 0.11%\n",
      "ESTACIONAMIENTOS                      0.05%\n",
      "GUARDERIAS                            0.00%\n",
      "Name: monto_transaccion, dtype: object\n"
     ]
    }
   ],
   "source": [
    "# Obtener suma de todas las transacciones\n",
    "total_sum = df['monto_transaccion'].sum()\n",
    "\n",
    "# Obtener suma de monto por giro asi como %\n",
    "category_sums = df.groupby('giro_nombre')['monto_transaccion'].sum()\n",
    "category_percentages = (category_sums / total_sum) * 100\n",
    "\n",
    "# Organizar df de mayor a menor\n",
    "category_percentages= category_percentages.sort_values(ascending=False).apply(lambda x: '{:.2f}%'.format(x))\n",
    "\n",
    "print(category_percentages)"
   ]
  },
  {
   "cell_type": "code",
   "execution_count": 104,
   "metadata": {},
   "outputs": [
    {
     "name": "stdout",
     "output_type": "stream",
     "text": [
      "{'RENTA DE AUTOS', 'ASEGURADORAS', 'TRANSPORTE AEREO', 'HOTELES', 'COLEGIOS Y UNIVERSIDADES', 'AGENCIAS DE VIAJES', 'EDUCACIN BASICA', 'MEDICOS Y DENTISTAS', 'BENEFICENCIA', 'HOSPITALES', 'ESTACIONAMIENTOS', 'SALONES DE BELLEZA', 'PEAJE', 'GUARDERIAS'}\n"
     ]
    }
   ],
   "source": [
    "# Volver a convertir a númerico para poder usar condicionales flotantes \n",
    "category_counts_numeric = category_counts.str.replace('%', '').astype(float) / 100\n",
    "category_percentages_numeric = category_percentages.str.replace('%', '').astype(float) / 100\n",
    "\n",
    "# Obtener listas de giros con atributos menores a 1%\n",
    "category_counts_less_than_1pct = category_counts_numeric[category_counts_numeric < 0.01].index\n",
    "category_percentages_less_than_1pct = category_percentages_numeric[category_percentages_numeric < 0.1].index\n",
    "\n",
    "# Obtener el set con la interescción de ambas listas\n",
    "categories_less_than_1pct= set(category_counts_less_than_1pct).intersection(category_percentages_less_than_1pct)\n",
    "\n",
    "print(categories_less_than_1pct)"
   ]
  },
  {
   "attachments": {},
   "cell_type": "markdown",
   "metadata": {},
   "source": [
    "Las categorias que represtan menos del 1% tanto en ocurrencias como en cantidad transaccionada son:\n",
    "* 'SALONES DE BELLEZA'\n",
    "* 'ASEGURADORAS'\n",
    "* 'HOSPITALES'\n",
    "* 'ESTACIONAMIENTOS'\n",
    "* 'HOTELES'\n",
    "* 'TRANSPORTE AEREO'\n",
    "* 'AGENCIAS DE VIAJES'\n",
    "* 'RENTA DE AUTOS'\n",
    "* 'PEAJE'\n",
    "* 'COLEGIOS Y UNIVERSIDADES'\n",
    "* 'EDUCACIN BASICA'\n",
    "* 'BENEFICENCIA'\n",
    "* 'GUARDERIAS'\n",
    "* 'MEDICOS Y DENTISTAS'\n",
    "\n",
    "Por lo tanto, dichos registros se podrían omitir por ser considerados outliers en un modelo"
   ]
  },
  {
   "cell_type": "code",
   "execution_count": 105,
   "metadata": {},
   "outputs": [
    {
     "data": {
      "text/plain": [
       "AGREGADOR                                             38739\n",
       "AUTOSERVICIOS Y SUPERMERCADOS                         36300\n",
       "TIENDAS DE CONVENIENCIA, MINISUPER                    34628\n",
       "LIMOSINAS, (TAXIS)                                    30879\n",
       "ESTACIONES DE SERVICIO, GASOLINERIAS TODO TRANSPOR    20760\n",
       "                                                      ...  \n",
       "COMFORT INNS                                              1\n",
       "HOWARD JOHNSON INN, (HOWARD JOHNSON)                      1\n",
       "DISTRIBUIDORES - CAMPERS Y REMOLQUES                      1\n",
       "COLLECC DE MONEDAS, NUMISMATICA, ESTAMPILLAS              1\n",
       "AUSTRIAN AIRLINES                                         1\n",
       "Name: mcc_nombre, Length: 294, dtype: int64"
      ]
     },
     "execution_count": 105,
     "metadata": {},
     "output_type": "execute_result"
    }
   ],
   "source": [
    "df.mcc_nombre.value_counts()"
   ]
  },
  {
   "attachments": {},
   "cell_type": "markdown",
   "metadata": {},
   "source": [
    "Debido a su fuere relación con el giro, se desprecia cualquier hallazgo de esta columna"
   ]
  },
  {
   "cell_type": "code",
   "execution_count": 106,
   "metadata": {},
   "outputs": [
    {
     "data": {
      "text/html": [
       "<div>\n",
       "<style scoped>\n",
       "    .dataframe tbody tr th:only-of-type {\n",
       "        vertical-align: middle;\n",
       "    }\n",
       "\n",
       "    .dataframe tbody tr th {\n",
       "        vertical-align: top;\n",
       "    }\n",
       "\n",
       "    .dataframe thead th {\n",
       "        text-align: right;\n",
       "    }\n",
       "</style>\n",
       "<table border=\"1\" class=\"dataframe\">\n",
       "  <thead>\n",
       "    <tr style=\"text-align: right;\">\n",
       "      <th></th>\n",
       "      <th>count</th>\n",
       "      <th>total_amount</th>\n",
       "    </tr>\n",
       "    <tr>\n",
       "      <th>fecha_transaccion</th>\n",
       "      <th></th>\n",
       "      <th></th>\n",
       "    </tr>\n",
       "  </thead>\n",
       "  <tbody>\n",
       "    <tr>\n",
       "      <th>2022-11-08</th>\n",
       "      <td>2365</td>\n",
       "      <td>377732.70</td>\n",
       "    </tr>\n",
       "    <tr>\n",
       "      <th>2022-11-09</th>\n",
       "      <td>2382</td>\n",
       "      <td>357018.91</td>\n",
       "    </tr>\n",
       "    <tr>\n",
       "      <th>2022-11-10</th>\n",
       "      <td>2451</td>\n",
       "      <td>394385.45</td>\n",
       "    </tr>\n",
       "    <tr>\n",
       "      <th>2022-11-11</th>\n",
       "      <td>2712</td>\n",
       "      <td>443472.35</td>\n",
       "    </tr>\n",
       "    <tr>\n",
       "      <th>2022-11-12</th>\n",
       "      <td>2965</td>\n",
       "      <td>502732.06</td>\n",
       "    </tr>\n",
       "    <tr>\n",
       "      <th>...</th>\n",
       "      <td>...</td>\n",
       "      <td>...</td>\n",
       "    </tr>\n",
       "    <tr>\n",
       "      <th>2023-03-03</th>\n",
       "      <td>3711</td>\n",
       "      <td>604089.48</td>\n",
       "    </tr>\n",
       "    <tr>\n",
       "      <th>2023-03-04</th>\n",
       "      <td>4117</td>\n",
       "      <td>717221.31</td>\n",
       "    </tr>\n",
       "    <tr>\n",
       "      <th>2023-03-05</th>\n",
       "      <td>3494</td>\n",
       "      <td>613187.74</td>\n",
       "    </tr>\n",
       "    <tr>\n",
       "      <th>2023-03-06</th>\n",
       "      <td>3168</td>\n",
       "      <td>510603.22</td>\n",
       "    </tr>\n",
       "    <tr>\n",
       "      <th>2023-03-07</th>\n",
       "      <td>3434</td>\n",
       "      <td>542238.24</td>\n",
       "    </tr>\n",
       "  </tbody>\n",
       "</table>\n",
       "<p>120 rows × 2 columns</p>\n",
       "</div>"
      ],
      "text/plain": [
       "                   count  total_amount\n",
       "fecha_transaccion                     \n",
       "2022-11-08          2365     377732.70\n",
       "2022-11-09          2382     357018.91\n",
       "2022-11-10          2451     394385.45\n",
       "2022-11-11          2712     443472.35\n",
       "2022-11-12          2965     502732.06\n",
       "...                  ...           ...\n",
       "2023-03-03          3711     604089.48\n",
       "2023-03-04          4117     717221.31\n",
       "2023-03-05          3494     613187.74\n",
       "2023-03-06          3168     510603.22\n",
       "2023-03-07          3434     542238.24\n",
       "\n",
       "[120 rows x 2 columns]"
      ]
     },
     "execution_count": 106,
     "metadata": {},
     "output_type": "execute_result"
    }
   ],
   "source": [
    "# Mostrar el número de ocurrencias de cada fecha\n",
    "date_counts = df.groupby(pd.Grouper(key='fecha_transaccion', freq='D')).agg(count=('monto_transaccion', 'count'), total_amount=('monto_transaccion', 'sum'))\n",
    "date_counts\n"
   ]
  },
  {
   "cell_type": "code",
   "execution_count": 107,
   "metadata": {},
   "outputs": [
    {
     "data": {
      "text/html": [
       "<div>\n",
       "<style scoped>\n",
       "    .dataframe tbody tr th:only-of-type {\n",
       "        vertical-align: middle;\n",
       "    }\n",
       "\n",
       "    .dataframe tbody tr th {\n",
       "        vertical-align: top;\n",
       "    }\n",
       "\n",
       "    .dataframe thead th {\n",
       "        text-align: right;\n",
       "    }\n",
       "</style>\n",
       "<table border=\"1\" class=\"dataframe\">\n",
       "  <thead>\n",
       "    <tr style=\"text-align: right;\">\n",
       "      <th></th>\n",
       "      <th>count</th>\n",
       "      <th>total_amount</th>\n",
       "    </tr>\n",
       "  </thead>\n",
       "  <tbody>\n",
       "    <tr>\n",
       "      <th>count</th>\n",
       "      <td>120.000000</td>\n",
       "      <td>120.000000</td>\n",
       "    </tr>\n",
       "    <tr>\n",
       "      <th>mean</th>\n",
       "      <td>2986.333333</td>\n",
       "      <td>512493.840250</td>\n",
       "    </tr>\n",
       "    <tr>\n",
       "      <th>std</th>\n",
       "      <td>382.559741</td>\n",
       "      <td>76143.761476</td>\n",
       "    </tr>\n",
       "    <tr>\n",
       "      <th>min</th>\n",
       "      <td>1549.000000</td>\n",
       "      <td>256053.130000</td>\n",
       "    </tr>\n",
       "    <tr>\n",
       "      <th>25%</th>\n",
       "      <td>2721.000000</td>\n",
       "      <td>457908.127500</td>\n",
       "    </tr>\n",
       "    <tr>\n",
       "      <th>50%</th>\n",
       "      <td>2965.500000</td>\n",
       "      <td>506654.505000</td>\n",
       "    </tr>\n",
       "    <tr>\n",
       "      <th>75%</th>\n",
       "      <td>3214.000000</td>\n",
       "      <td>557369.877500</td>\n",
       "    </tr>\n",
       "    <tr>\n",
       "      <th>max</th>\n",
       "      <td>4117.000000</td>\n",
       "      <td>717221.310000</td>\n",
       "    </tr>\n",
       "  </tbody>\n",
       "</table>\n",
       "</div>"
      ],
      "text/plain": [
       "             count   total_amount\n",
       "count   120.000000     120.000000\n",
       "mean   2986.333333  512493.840250\n",
       "std     382.559741   76143.761476\n",
       "min    1549.000000  256053.130000\n",
       "25%    2721.000000  457908.127500\n",
       "50%    2965.500000  506654.505000\n",
       "75%    3214.000000  557369.877500\n",
       "max    4117.000000  717221.310000"
      ]
     },
     "execution_count": 107,
     "metadata": {},
     "output_type": "execute_result"
    }
   ],
   "source": [
    "date_counts.describe()"
   ]
  },
  {
   "attachments": {},
   "cell_type": "markdown",
   "metadata": {},
   "source": [
    "Los registros abarcan 120 días, del 8 de noviembre del 2022, al 7 de marzo del 2023.\n",
    "\n",
    "El promedio de transacciones por día es de 2986, mientras que el valor promedio transaccionado por día es de 512,494\n",
    "\n",
    "Debido a que cada día cuenta con un número considerable de datos, no se planea eliminar uno en particular"
   ]
  },
  {
   "cell_type": "code",
   "execution_count": 108,
   "metadata": {},
   "outputs": [
    {
     "data": {
      "text/html": [
       "<div>\n",
       "<style scoped>\n",
       "    .dataframe tbody tr th:only-of-type {\n",
       "        vertical-align: middle;\n",
       "    }\n",
       "\n",
       "    .dataframe tbody tr th {\n",
       "        vertical-align: top;\n",
       "    }\n",
       "\n",
       "    .dataframe thead tr th {\n",
       "        text-align: left;\n",
       "    }\n",
       "\n",
       "    .dataframe thead tr:last-of-type th {\n",
       "        text-align: right;\n",
       "    }\n",
       "</style>\n",
       "<table border=\"1\" class=\"dataframe\">\n",
       "  <thead>\n",
       "    <tr>\n",
       "      <th></th>\n",
       "      <th colspan=\"2\" halign=\"left\">monto_transaccion</th>\n",
       "    </tr>\n",
       "    <tr>\n",
       "      <th></th>\n",
       "      <th>count</th>\n",
       "      <th>sum</th>\n",
       "    </tr>\n",
       "    <tr>\n",
       "      <th>ope_pais</th>\n",
       "      <th></th>\n",
       "      <th></th>\n",
       "    </tr>\n",
       "  </thead>\n",
       "  <tbody>\n",
       "    <tr>\n",
       "      <th>MX</th>\n",
       "      <td>338768</td>\n",
       "      <td>58104366.23</td>\n",
       "    </tr>\n",
       "    <tr>\n",
       "      <th>US</th>\n",
       "      <td>8818</td>\n",
       "      <td>1504670.54</td>\n",
       "    </tr>\n",
       "    <tr>\n",
       "      <th>GB</th>\n",
       "      <td>3389</td>\n",
       "      <td>604020.79</td>\n",
       "    </tr>\n",
       "    <tr>\n",
       "      <th>NL</th>\n",
       "      <td>2085</td>\n",
       "      <td>244950.33</td>\n",
       "    </tr>\n",
       "    <tr>\n",
       "      <th>ES</th>\n",
       "      <td>810</td>\n",
       "      <td>156446.73</td>\n",
       "    </tr>\n",
       "    <tr>\n",
       "      <th>IE</th>\n",
       "      <td>837</td>\n",
       "      <td>152468.13</td>\n",
       "    </tr>\n",
       "    <tr>\n",
       "      <th>LU</th>\n",
       "      <td>494</td>\n",
       "      <td>111952.91</td>\n",
       "    </tr>\n",
       "    <tr>\n",
       "      <th>CA</th>\n",
       "      <td>350</td>\n",
       "      <td>71794.13</td>\n",
       "    </tr>\n",
       "    <tr>\n",
       "      <th>LT</th>\n",
       "      <td>102</td>\n",
       "      <td>48019.49</td>\n",
       "    </tr>\n",
       "    <tr>\n",
       "      <th>FR</th>\n",
       "      <td>183</td>\n",
       "      <td>42002.00</td>\n",
       "    </tr>\n",
       "  </tbody>\n",
       "</table>\n",
       "</div>"
      ],
      "text/plain": [
       "         monto_transaccion             \n",
       "                     count          sum\n",
       "ope_pais                               \n",
       "MX                  338768  58104366.23\n",
       "US                    8818   1504670.54\n",
       "GB                    3389    604020.79\n",
       "NL                    2085    244950.33\n",
       "ES                     810    156446.73\n",
       "IE                     837    152468.13\n",
       "LU                     494    111952.91\n",
       "CA                     350     71794.13\n",
       "LT                     102     48019.49\n",
       "FR                     183     42002.00"
      ]
     },
     "execution_count": 108,
     "metadata": {},
     "output_type": "execute_result"
    }
   ],
   "source": [
    "# Mostrar los paises con mayor monto_transaccionado y mayor número de transacciones\n",
    "paises = df.groupby(\"ope_pais\").agg({'monto_transaccion':['count','sum']}).sort_values(('monto_transaccion','sum'),ascending=False)\n",
    "paises.head(10)"
   ]
  },
  {
   "attachments": {},
   "cell_type": "markdown",
   "metadata": {},
   "source": [
    "Fuera de 'US' ningún otro país muestra relevancia para ser considerado en un modelo"
   ]
  },
  {
   "cell_type": "code",
   "execution_count": 109,
   "metadata": {},
   "outputs": [
    {
     "data": {
      "text/plain": [
       "CARD PRESENT        227208\n",
       "CARD NOT PRESENT    131152\n",
       "Name: entry_mode, dtype: int64"
      ]
     },
     "execution_count": 109,
     "metadata": {},
     "output_type": "execute_result"
    }
   ],
   "source": [
    "df.entry_mode.value_counts()"
   ]
  },
  {
   "attachments": {},
   "cell_type": "markdown",
   "metadata": {},
   "source": [
    "No existen valores atípicos en el método de pago"
   ]
  },
  {
   "cell_type": "code",
   "execution_count": 110,
   "metadata": {},
   "outputs": [
    {
     "data": {
      "text/plain": [
       "M    244682\n",
       "F    113378\n",
       "        300\n",
       "Name: sexo_cliente, dtype: int64"
      ]
     },
     "execution_count": 110,
     "metadata": {},
     "output_type": "execute_result"
    }
   ],
   "source": [
    "df.sexo_cliente.value_counts()"
   ]
  },
  {
   "attachments": {},
   "cell_type": "markdown",
   "metadata": {},
   "source": [
    "Existen 300 registros que no tienen un sexo asignado, estos se pueden despreciar"
   ]
  },
  {
   "cell_type": "code",
   "execution_count": 111,
   "metadata": {},
   "outputs": [
    {
     "data": {
      "text/plain": [
       "NUEVO LEON                        0.222391\n",
       "CIUDAD DE MEXICO                  0.144363\n",
       "MEXICO                            0.100357\n",
       "JALISCO                           0.079219\n",
       "BAJA CALIFORNIA                   0.038645\n",
       "QUERETARO                         0.034250\n",
       "CHIHUAHUA                         0.032718\n",
       "COAHUILA DE ZARAGOZA              0.032551\n",
       "GUANAJUATO                        0.029331\n",
       "VERACRUZ DE IGNACIO DE LA LLAV    0.027986\n",
       "QUINTANA ROO                      0.024149\n",
       "PUEBLA                            0.023532\n",
       "YUCATAN                           0.021989\n",
       "TAMAULIPAS                        0.021841\n",
       "SONORA                            0.020708\n",
       "SAN LUIS POTOSI                   0.018225\n",
       "SINALOA                           0.013964\n",
       "AGUASCALIENTES                    0.013514\n",
       "MICHOACAN DE OCAMPO               0.012019\n",
       "DURANGO                           0.011790\n",
       "HIDALGO                           0.010763\n",
       "MORELOS                           0.010682\n",
       "TABASCO                           0.009256\n",
       "BAJA CALIFORNIA SUR               0.008330\n",
       "CHIAPAS                           0.007105\n",
       "GUERRERO                          0.005556\n",
       "OAXACA                            0.005263\n",
       "ZACATECAS                         0.004696\n",
       "NAYARIT                           0.004004\n",
       "COLIMA                            0.003923\n",
       "CAMPECHE                          0.003921\n",
       "TLAXCALA                          0.002958\n",
       "Name: estado_cliente, dtype: float64"
      ]
     },
     "execution_count": 111,
     "metadata": {},
     "output_type": "execute_result"
    }
   ],
   "source": [
    "# Obtener el % de transacciones por estado de domicilio de usuario\n",
    "df.estado_cliente.value_counts(normalize=True)\n",
    "#len(df.estado_cliente.unique())\n"
   ]
  },
  {
   "attachments": {},
   "cell_type": "markdown",
   "metadata": {},
   "source": [
    "Gran parte de las transacciones son hechas por usuarios con domicilio en el norte del país"
   ]
  },
  {
   "cell_type": "code",
   "execution_count": 112,
   "metadata": {},
   "outputs": [
    {
     "data": {
      "text/plain": [
       "27.0    19220\n",
       "31.0    17623\n",
       "25.0    17403\n",
       "26.0    17108\n",
       "30.0    16997\n",
       "        ...  \n",
       "12.0       20\n",
       "77.0       15\n",
       "11.0        8\n",
       "3.0         8\n",
       "82.0        2\n",
       "Name: edad_cliente, Length: 80, dtype: int64"
      ]
     },
     "execution_count": 112,
     "metadata": {},
     "output_type": "execute_result"
    }
   ],
   "source": [
    "df.edad_cliente.value_counts()"
   ]
  },
  {
   "cell_type": "code",
   "execution_count": 113,
   "metadata": {},
   "outputs": [
    {
     "data": {
      "text/html": [
       "<div>\n",
       "<style scoped>\n",
       "    .dataframe tbody tr th:only-of-type {\n",
       "        vertical-align: middle;\n",
       "    }\n",
       "\n",
       "    .dataframe tbody tr th {\n",
       "        vertical-align: top;\n",
       "    }\n",
       "\n",
       "    .dataframe thead th {\n",
       "        text-align: right;\n",
       "    }\n",
       "</style>\n",
       "<table border=\"1\" class=\"dataframe\">\n",
       "  <thead>\n",
       "    <tr style=\"text-align: right;\">\n",
       "      <th></th>\n",
       "      <th>edad_cliente</th>\n",
       "      <th>monto_transaccion</th>\n",
       "    </tr>\n",
       "  </thead>\n",
       "  <tbody>\n",
       "    <tr>\n",
       "      <th>count</th>\n",
       "      <td>358360.000000</td>\n",
       "      <td>358360.000000</td>\n",
       "    </tr>\n",
       "    <tr>\n",
       "      <th>mean</th>\n",
       "      <td>33.647918</td>\n",
       "      <td>171.613073</td>\n",
       "    </tr>\n",
       "    <tr>\n",
       "      <th>std</th>\n",
       "      <td>11.956654</td>\n",
       "      <td>187.012943</td>\n",
       "    </tr>\n",
       "    <tr>\n",
       "      <th>min</th>\n",
       "      <td>1.000000</td>\n",
       "      <td>10.000000</td>\n",
       "    </tr>\n",
       "    <tr>\n",
       "      <th>25%</th>\n",
       "      <td>26.000000</td>\n",
       "      <td>48.370000</td>\n",
       "    </tr>\n",
       "    <tr>\n",
       "      <th>50%</th>\n",
       "      <td>31.000000</td>\n",
       "      <td>98.680000</td>\n",
       "    </tr>\n",
       "    <tr>\n",
       "      <th>75%</th>\n",
       "      <td>38.000000</td>\n",
       "      <td>224.270000</td>\n",
       "    </tr>\n",
       "    <tr>\n",
       "      <th>max</th>\n",
       "      <td>123.000000</td>\n",
       "      <td>5000.000000</td>\n",
       "    </tr>\n",
       "  </tbody>\n",
       "</table>\n",
       "</div>"
      ],
      "text/plain": [
       "        edad_cliente  monto_transaccion\n",
       "count  358360.000000      358360.000000\n",
       "mean       33.647918         171.613073\n",
       "std        11.956654         187.012943\n",
       "min         1.000000          10.000000\n",
       "25%        26.000000          48.370000\n",
       "50%        31.000000          98.680000\n",
       "75%        38.000000         224.270000\n",
       "max       123.000000        5000.000000"
      ]
     },
     "execution_count": 113,
     "metadata": {},
     "output_type": "execute_result"
    }
   ],
   "source": [
    "df[['edad_cliente','monto_transaccion']].describe()"
   ]
  },
  {
   "cell_type": "code",
   "execution_count": 114,
   "metadata": {},
   "outputs": [
    {
     "data": {
      "text/plain": [
       "1709"
      ]
     },
     "execution_count": 114,
     "metadata": {},
     "output_type": "execute_result"
    }
   ],
   "source": [
    "len(df[df['edad_cliente']<18])"
   ]
  },
  {
   "cell_type": "code",
   "execution_count": 115,
   "metadata": {},
   "outputs": [
    {
     "data": {
      "text/plain": [
       "1901"
      ]
     },
     "execution_count": 115,
     "metadata": {},
     "output_type": "execute_result"
    }
   ],
   "source": [
    "len(df[df['edad_cliente']>85])"
   ]
  },
  {
   "attachments": {},
   "cell_type": "markdown",
   "metadata": {},
   "source": [
    "Existen registros de menores de edad, esto puede parecer raro, pero debido a la emision de Hey, Menores, puede hacer creibles estas transacciones. Sin embargo, como representan menos del 1% de las transacciones totales se despreciaran para un modelo, al igual que los registros de personas mayores a 85 años"
   ]
  },
  {
   "attachments": {},
   "cell_type": "markdown",
   "metadata": {},
   "source": [
    "# Limpieza de datos"
   ]
  },
  {
   "attachments": {},
   "cell_type": "markdown",
   "metadata": {},
   "source": [
    "## Borrar datos atípicos"
   ]
  },
  {
   "attachments": {},
   "cell_type": "markdown",
   "metadata": {},
   "source": [
    "Existen diversos registros que siguen categorias de atributos que son despreciables para la elaboración de nuestro modelo:\n",
    "- Registros con giros en : {'RENTA DE AUTOS', 'ASEGURADORAS', 'TRANSPORTE AEREO', 'HOTELES', 'COLEGIOS Y UNIVERSIDADES', 'AGENCIAS DE VIAJES', 'EDUCACIN BASICA', 'MEDICOS Y DENTISTAS', 'BENEFICENCIA', 'HOSPITALES', 'ESTACIONAMIENTOS', 'SALONES DE BELLEZA', 'PEAJE', 'GUARDERIAS'}\n",
    "- Registros con país de operación diferente a: {'MX','US'}\n",
    "- Registros con sexo del cliente indefinido\n",
    "- Registros con edad de cliente menor a 18 o mayor a 85\n",
    "\n",
    "Se procede a eliminar dichos registros"
   ]
  },
  {
   "cell_type": "code",
   "execution_count": 119,
   "metadata": {},
   "outputs": [],
   "source": [
    "# Elmina todos los registros que contengan alguna de las categorías con menor a 1%\n",
    "df = df[~df['giro_nombre'].isin(categories_less_than_1pct)]\n",
    "\n",
    "# Eliminar todos los registros realizados en un país que no sea México o USA\n",
    "df = df[df['ope_pais'].isin({'MX','US'})]\n",
    "\n",
    "# Eliminar registro con sexo indefinido\n",
    "df = df[df['sexo_cliente'].isin({'M','F'})]\n",
    "\n",
    "# Eliminar registros de clientes con edad menor a 18 años o mayor a 85\n",
    "df = df[(df['edad_cliente'] >= 18) & (df['edad_cliente'] <= 85)]"
   ]
  },
  {
   "cell_type": "code",
   "execution_count": 120,
   "metadata": {},
   "outputs": [
    {
     "data": {
      "text/html": [
       "<div>\n",
       "<style scoped>\n",
       "    .dataframe tbody tr th:only-of-type {\n",
       "        vertical-align: middle;\n",
       "    }\n",
       "\n",
       "    .dataframe tbody tr th {\n",
       "        vertical-align: top;\n",
       "    }\n",
       "\n",
       "    .dataframe thead th {\n",
       "        text-align: right;\n",
       "    }\n",
       "</style>\n",
       "<table border=\"1\" class=\"dataframe\">\n",
       "  <thead>\n",
       "    <tr style=\"text-align: right;\">\n",
       "      <th></th>\n",
       "      <th>tipo_transaccion</th>\n",
       "      <th>nombre_comercio</th>\n",
       "      <th>giro_nombre</th>\n",
       "      <th>mcc_nombre</th>\n",
       "      <th>fecha_transaccion</th>\n",
       "      <th>ope_pais</th>\n",
       "      <th>entry_mode</th>\n",
       "      <th>sexo_cliente</th>\n",
       "      <th>estado_cliente</th>\n",
       "      <th>edad_cliente</th>\n",
       "      <th>monto_transaccion</th>\n",
       "      <th>id_cliente</th>\n",
       "    </tr>\n",
       "  </thead>\n",
       "  <tbody>\n",
       "    <tr>\n",
       "      <th>0</th>\n",
       "      <td>TDC</td>\n",
       "      <td>FARM GUADALAJARA 341  TORREON COAH CO</td>\n",
       "      <td>FARMACIAS</td>\n",
       "      <td>DROGUERIAS, (FARMACIAS)</td>\n",
       "      <td>2023-01-20 13:48:00</td>\n",
       "      <td>MX</td>\n",
       "      <td>CARD PRESENT</td>\n",
       "      <td>F</td>\n",
       "      <td>COAHUILA DE ZARAGOZA</td>\n",
       "      <td>61.0</td>\n",
       "      <td>65.04</td>\n",
       "      <td>933</td>\n",
       "    </tr>\n",
       "    <tr>\n",
       "      <th>1</th>\n",
       "      <td>TDC</td>\n",
       "      <td>OXXO BABY O           ACAPULCO GRO GE</td>\n",
       "      <td>RETAIL</td>\n",
       "      <td>TIENDAS DE CONVENIENCIA, MINISUPER</td>\n",
       "      <td>2023-01-28 13:58:00</td>\n",
       "      <td>MX</td>\n",
       "      <td>CARD PRESENT</td>\n",
       "      <td>M</td>\n",
       "      <td>MEXICO</td>\n",
       "      <td>27.0</td>\n",
       "      <td>143.18</td>\n",
       "      <td>8562</td>\n",
       "    </tr>\n",
       "    <tr>\n",
       "      <th>2</th>\n",
       "      <td>TDD</td>\n",
       "      <td>VS TELCEL 018001200006CIUDAD DE MEX001</td>\n",
       "      <td>TELECOMUNICACIONES</td>\n",
       "      <td>SERVICIOS DE TELECOMUNICACION, LLAMADAS LOC Y ...</td>\n",
       "      <td>2023-01-29 13:37:00</td>\n",
       "      <td>MX</td>\n",
       "      <td>CARD NOT PRESENT</td>\n",
       "      <td>M</td>\n",
       "      <td>QUINTANA ROO</td>\n",
       "      <td>29.0</td>\n",
       "      <td>84.80</td>\n",
       "      <td>3980</td>\n",
       "    </tr>\n",
       "    <tr>\n",
       "      <th>3</th>\n",
       "      <td>TDD</td>\n",
       "      <td>KFC ECOMMERCE         CIUDAD DE MEX001</td>\n",
       "      <td>COMIDA RAPIDA</td>\n",
       "      <td>COMIDA RAPIDA</td>\n",
       "      <td>2023-02-11 15:06:00</td>\n",
       "      <td>MX</td>\n",
       "      <td>CARD NOT PRESENT</td>\n",
       "      <td>M</td>\n",
       "      <td>COAHUILA DE ZARAGOZA</td>\n",
       "      <td>45.0</td>\n",
       "      <td>124.22</td>\n",
       "      <td>9389</td>\n",
       "    </tr>\n",
       "    <tr>\n",
       "      <th>4</th>\n",
       "      <td>TDD</td>\n",
       "      <td>MERCADO PAGO          CIUDAD DE MEXDF</td>\n",
       "      <td>OTROS</td>\n",
       "      <td>MERCADEO DIRECTO - NO CLASIFICADO</td>\n",
       "      <td>2023-01-24 12:50:00</td>\n",
       "      <td>MX</td>\n",
       "      <td>CARD NOT PRESENT</td>\n",
       "      <td>M</td>\n",
       "      <td>TABASCO</td>\n",
       "      <td>22.0</td>\n",
       "      <td>17.44</td>\n",
       "      <td>1845</td>\n",
       "    </tr>\n",
       "    <tr>\n",
       "      <th>...</th>\n",
       "      <td>...</td>\n",
       "      <td>...</td>\n",
       "      <td>...</td>\n",
       "      <td>...</td>\n",
       "      <td>...</td>\n",
       "      <td>...</td>\n",
       "      <td>...</td>\n",
       "      <td>...</td>\n",
       "      <td>...</td>\n",
       "      <td>...</td>\n",
       "      <td>...</td>\n",
       "      <td>...</td>\n",
       "    </tr>\n",
       "    <tr>\n",
       "      <th>358355</th>\n",
       "      <td>TDD</td>\n",
       "      <td>SNP*MERCADOPAGO       CIUDAD DE MEX001</td>\n",
       "      <td>AGREGADOR</td>\n",
       "      <td>AGREGADOR</td>\n",
       "      <td>2023-01-13 14:36:00</td>\n",
       "      <td>MX</td>\n",
       "      <td>CARD NOT PRESENT</td>\n",
       "      <td>F</td>\n",
       "      <td>VERACRUZ DE IGNACIO DE LA LLAV</td>\n",
       "      <td>23.0</td>\n",
       "      <td>531.91</td>\n",
       "      <td>463</td>\n",
       "    </tr>\n",
       "    <tr>\n",
       "      <th>358356</th>\n",
       "      <td>TDD</td>\n",
       "      <td>WALMART SUPER 1       CIUDAD DE MEXDF</td>\n",
       "      <td>SUPERMERCADOS</td>\n",
       "      <td>AUTOSERVICIOS Y SUPERMERCADOS</td>\n",
       "      <td>2022-11-27 02:22:00</td>\n",
       "      <td>MX</td>\n",
       "      <td>CARD NOT PRESENT</td>\n",
       "      <td>F</td>\n",
       "      <td>CIUDAD DE MEXICO</td>\n",
       "      <td>46.0</td>\n",
       "      <td>531.24</td>\n",
       "      <td>4167</td>\n",
       "    </tr>\n",
       "    <tr>\n",
       "      <th>358357</th>\n",
       "      <td>TDC</td>\n",
       "      <td>CLIP MX*TIJUANA SMOKE TIJUANA      000</td>\n",
       "      <td>AGREGADOR</td>\n",
       "      <td>AGREGADOR</td>\n",
       "      <td>2023-02-27 15:35:00</td>\n",
       "      <td>MX</td>\n",
       "      <td>CARD PRESENT</td>\n",
       "      <td>M</td>\n",
       "      <td>BAJA CALIFORNIA</td>\n",
       "      <td>21.0</td>\n",
       "      <td>523.99</td>\n",
       "      <td>3264</td>\n",
       "    </tr>\n",
       "    <tr>\n",
       "      <th>358358</th>\n",
       "      <td>TDC</td>\n",
       "      <td>12746 ZARA PASEOQUERE QUERETARO    00</td>\n",
       "      <td>RETAIL</td>\n",
       "      <td>ROPA CASUAL DAMAS LENCERIA</td>\n",
       "      <td>2022-12-09 18:28:00</td>\n",
       "      <td>MX</td>\n",
       "      <td>CARD PRESENT</td>\n",
       "      <td>F</td>\n",
       "      <td>QUERETARO</td>\n",
       "      <td>23.0</td>\n",
       "      <td>548.17</td>\n",
       "      <td>8180</td>\n",
       "    </tr>\n",
       "    <tr>\n",
       "      <th>358359</th>\n",
       "      <td>TDC</td>\n",
       "      <td>SONORAS MEAT 2        AGUASCALIENTE001</td>\n",
       "      <td>MISCELANEAS</td>\n",
       "      <td>ABARROTES, CARNICERIAS, PESCADERIAS, MISCELANEAS,</td>\n",
       "      <td>2023-03-04 14:42:00</td>\n",
       "      <td>MX</td>\n",
       "      <td>CARD PRESENT</td>\n",
       "      <td>F</td>\n",
       "      <td>AGUASCALIENTES</td>\n",
       "      <td>67.0</td>\n",
       "      <td>558.81</td>\n",
       "      <td>2889</td>\n",
       "    </tr>\n",
       "  </tbody>\n",
       "</table>\n",
       "<p>335747 rows × 12 columns</p>\n",
       "</div>"
      ],
      "text/plain": [
       "       tipo_transaccion                         nombre_comercio  \\\n",
       "0                   TDC   FARM GUADALAJARA 341  TORREON COAH CO   \n",
       "1                   TDC   OXXO BABY O           ACAPULCO GRO GE   \n",
       "2                   TDD  VS TELCEL 018001200006CIUDAD DE MEX001   \n",
       "3                   TDD  KFC ECOMMERCE         CIUDAD DE MEX001   \n",
       "4                   TDD   MERCADO PAGO          CIUDAD DE MEXDF   \n",
       "...                 ...                                     ...   \n",
       "358355              TDD  SNP*MERCADOPAGO       CIUDAD DE MEX001   \n",
       "358356              TDD   WALMART SUPER 1       CIUDAD DE MEXDF   \n",
       "358357              TDC  CLIP MX*TIJUANA SMOKE TIJUANA      000   \n",
       "358358              TDC   12746 ZARA PASEOQUERE QUERETARO    00   \n",
       "358359              TDC  SONORAS MEAT 2        AGUASCALIENTE001   \n",
       "\n",
       "               giro_nombre                                         mcc_nombre  \\\n",
       "0                FARMACIAS                            DROGUERIAS, (FARMACIAS)   \n",
       "1                   RETAIL                 TIENDAS DE CONVENIENCIA, MINISUPER   \n",
       "2       TELECOMUNICACIONES  SERVICIOS DE TELECOMUNICACION, LLAMADAS LOC Y ...   \n",
       "3            COMIDA RAPIDA                                      COMIDA RAPIDA   \n",
       "4                    OTROS                  MERCADEO DIRECTO - NO CLASIFICADO   \n",
       "...                    ...                                                ...   \n",
       "358355           AGREGADOR                                          AGREGADOR   \n",
       "358356       SUPERMERCADOS                      AUTOSERVICIOS Y SUPERMERCADOS   \n",
       "358357           AGREGADOR                                          AGREGADOR   \n",
       "358358              RETAIL                         ROPA CASUAL DAMAS LENCERIA   \n",
       "358359         MISCELANEAS  ABARROTES, CARNICERIAS, PESCADERIAS, MISCELANEAS,   \n",
       "\n",
       "         fecha_transaccion ope_pais        entry_mode sexo_cliente  \\\n",
       "0      2023-01-20 13:48:00       MX      CARD PRESENT            F   \n",
       "1      2023-01-28 13:58:00       MX      CARD PRESENT            M   \n",
       "2      2023-01-29 13:37:00       MX  CARD NOT PRESENT            M   \n",
       "3      2023-02-11 15:06:00       MX  CARD NOT PRESENT            M   \n",
       "4      2023-01-24 12:50:00       MX  CARD NOT PRESENT            M   \n",
       "...                    ...      ...               ...          ...   \n",
       "358355 2023-01-13 14:36:00       MX  CARD NOT PRESENT            F   \n",
       "358356 2022-11-27 02:22:00       MX  CARD NOT PRESENT            F   \n",
       "358357 2023-02-27 15:35:00       MX      CARD PRESENT            M   \n",
       "358358 2022-12-09 18:28:00       MX      CARD PRESENT            F   \n",
       "358359 2023-03-04 14:42:00       MX      CARD PRESENT            F   \n",
       "\n",
       "                        estado_cliente  edad_cliente  monto_transaccion  \\\n",
       "0                 COAHUILA DE ZARAGOZA          61.0              65.04   \n",
       "1                               MEXICO          27.0             143.18   \n",
       "2                         QUINTANA ROO          29.0              84.80   \n",
       "3                 COAHUILA DE ZARAGOZA          45.0             124.22   \n",
       "4                              TABASCO          22.0              17.44   \n",
       "...                                ...           ...                ...   \n",
       "358355  VERACRUZ DE IGNACIO DE LA LLAV          23.0             531.91   \n",
       "358356                CIUDAD DE MEXICO          46.0             531.24   \n",
       "358357                 BAJA CALIFORNIA          21.0             523.99   \n",
       "358358                       QUERETARO          23.0             548.17   \n",
       "358359                  AGUASCALIENTES          67.0             558.81   \n",
       "\n",
       "        id_cliente  \n",
       "0              933  \n",
       "1             8562  \n",
       "2             3980  \n",
       "3             9389  \n",
       "4             1845  \n",
       "...            ...  \n",
       "358355         463  \n",
       "358356        4167  \n",
       "358357        3264  \n",
       "358358        8180  \n",
       "358359        2889  \n",
       "\n",
       "[335747 rows x 12 columns]"
      ]
     },
     "execution_count": 120,
     "metadata": {},
     "output_type": "execute_result"
    }
   ],
   "source": [
    "df"
   ]
  },
  {
   "attachments": {},
   "cell_type": "markdown",
   "metadata": {},
   "source": [
    "Se eliminaron 22,613 registros atípicos, conformando el 6% del data set original"
   ]
  },
  {
   "attachments": {},
   "cell_type": "markdown",
   "metadata": {},
   "source": [
    "## Generación de clases"
   ]
  },
  {
   "cell_type": "code",
   "execution_count": 121,
   "metadata": {},
   "outputs": [],
   "source": [
    "# Agrupamos los datos en base al área de procedencia del usuario"
   ]
  },
  {
   "cell_type": "code",
   "execution_count": 122,
   "metadata": {},
   "outputs": [],
   "source": [
    "# Creamo grupos para los distintos rangos de edad de los usuarios"
   ]
  },
  {
   "cell_type": "code",
   "execution_count": 123,
   "metadata": {},
   "outputs": [],
   "source": [
    "# Creamos grupos para el monto de las transacciones"
   ]
  }
 ],
 "metadata": {
  "kernelspec": {
   "display_name": "datathon",
   "language": "python",
   "name": "python3"
  },
  "language_info": {
   "codemirror_mode": {
    "name": "ipython",
    "version": 3
   },
   "file_extension": ".py",
   "mimetype": "text/x-python",
   "name": "python",
   "nbconvert_exporter": "python",
   "pygments_lexer": "ipython3",
   "version": "3.11.3"
  },
  "orig_nbformat": 4
 },
 "nbformat": 4,
 "nbformat_minor": 2
}
